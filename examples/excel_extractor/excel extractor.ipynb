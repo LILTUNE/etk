{
 "cells": [
  {
   "cell_type": "markdown",
   "metadata": {},
   "source": [
    "# Excel Extractor\n",
    "\n",
    "ETK's Excel Extractor is a cell-based extractor for extracting data from compatible spreadsheets.\n",
    "\n",
    "## Souce spreadsheet\n",
    "\n",
    "The example spreadsheet file named `alabama.xml` and it has a sheet named `16tbl08al`, in which row 1 to row 5 and row 60 to row 62 are metadata, 6A to M59 is a table (which has row and colume headers). For this example, I'm going to extract data from C7 to M33 (see the picture attached below).\n",
    "\n",
    "![screenshot.png](screenshot.png)"
   ]
  },
  {
   "cell_type": "markdown",
   "metadata": {},
   "source": [
    "## Define where and how to extract data\n",
    "\n",
    "Excel Extractor will scan cell-by-cell within a region that you specified and fill variables that you defined. In this particular example, I want to extract value of all cells in region (C7, M33) and I defined a variable called `value`. Its value will be extracted from a cell located at `$col,$row` where `$col` and `$row` means current colume id and row id that the scanner is at. The return is a list object which has the variables that you defined."
   ]
  },
  {
   "cell_type": "code",
   "execution_count": 1,
   "metadata": {},
   "outputs": [
    {
     "name": "stdout",
     "output_type": "stream",
     "text": [
      "[{'value': 73},\n",
      " {'value': 1},\n",
      " {'value': 12},\n",
      " {'value': ''},\n",
      " {'value': 8},\n",
      " {'value': 52},\n",
      " {'value': 429},\n",
      " {'value': 146},\n",
      " {'value': 233},\n",
      " {'value': 50}]\n"
     ]
    }
   ],
   "source": [
    "import pprint\n",
    "from etk.extractors.excel_extractor import ExcelExtractor\n",
    "ee = ExcelExtractor()\n",
    "variables = {\n",
    "    'value': '$col,$row'\n",
    "}\n",
    "raw_extractions = ee.extract('alabama.xls', '16tbl08al', ['C,7', 'M,33'], variables)\n",
    "pprint.pprint(raw_extractions[:10])  # print first 10"
   ]
  },
  {
   "cell_type": "markdown",
   "metadata": {},
   "source": [
    "Excel Extractor allows you to define multiple variables. This is useful if you want to extract the data from other cells which are associated with current cell. In this example, I also need colume header (category) and country name of every cell in the region. It supports fixed coordinate like `($B,$1)` (which means the cell at colume B row 1) or using `+` and `-` to caculate relative coordinate like `($B-1,$row+1)` (which means the cell at colume A and its row id is current row+1)."
   ]
  },
  {
   "cell_type": "code",
   "execution_count": 2,
   "metadata": {},
   "outputs": [
    {
     "name": "stdout",
     "output_type": "stream",
     "text": [
      "[{'category': 'Violent\\ncrime', 'country': 'Autauga', 'value': 73},\n",
      " {'category': 'Murder and\\nnonnegligent\\nmanslaughter',\n",
      "  'country': 'Autauga',\n",
      "  'value': 1},\n",
      " {'category': 'Rape\\n(revised\\ndefinition)1',\n",
      "  'country': 'Autauga',\n",
      "  'value': 12},\n",
      " {'category': 'Rape\\n(legacy\\ndefinition)2', 'country': 'Autauga', 'value': ''},\n",
      " {'category': 'Robbery', 'country': 'Autauga', 'value': 8},\n",
      " {'category': 'Aggravated\\nassault', 'country': 'Autauga', 'value': 52},\n",
      " {'category': 'Property\\ncrime', 'country': 'Autauga', 'value': 429},\n",
      " {'category': 'Burglary', 'country': 'Autauga', 'value': 146},\n",
      " {'category': 'Larceny-\\ntheft', 'country': 'Autauga', 'value': 233},\n",
      " {'category': 'Motor\\nvehicle\\ntheft', 'country': 'Autauga', 'value': 50}]\n"
     ]
    }
   ],
   "source": [
    "variables = {\n",
    "    'value': '$col,$row',\n",
    "    'country': '$B,$row',\n",
    "    'category': '$col,$6'\n",
    "}\n",
    "raw_extractions = ee.extract('alabama.xls', '16tbl08al', ['C,7', 'M,33'], variables)\n",
    "pprint.pprint(raw_extractions[:10]) # print first 10"
   ]
  },
  {
   "cell_type": "markdown",
   "metadata": {},
   "source": [
    "Besides the coordinate, the value of variables can also be a builtin variable (it only supports `$row` and `$col` right now). This can be used for getting provenance of extractions. Both row and colume id here are presented in numeric form."
   ]
  },
  {
   "cell_type": "code",
   "execution_count": 3,
   "metadata": {},
   "outputs": [
    {
     "name": "stdout",
     "output_type": "stream",
     "text": [
      "[{'category': 'Violent\\ncrime',\n",
      "  'country': 'Autauga',\n",
      "  'from_col': 2,\n",
      "  'from_row': 6,\n",
      "  'value': 73},\n",
      " {'category': 'Murder and\\nnonnegligent\\nmanslaughter',\n",
      "  'country': 'Autauga',\n",
      "  'from_col': 3,\n",
      "  'from_row': 6,\n",
      "  'value': 1},\n",
      " {'category': 'Rape\\n(revised\\ndefinition)1',\n",
      "  'country': 'Autauga',\n",
      "  'from_col': 4,\n",
      "  'from_row': 6,\n",
      "  'value': 12},\n",
      " {'category': 'Rape\\n(legacy\\ndefinition)2',\n",
      "  'country': 'Autauga',\n",
      "  'from_col': 5,\n",
      "  'from_row': 6,\n",
      "  'value': ''},\n",
      " {'category': 'Robbery',\n",
      "  'country': 'Autauga',\n",
      "  'from_col': 6,\n",
      "  'from_row': 6,\n",
      "  'value': 8},\n",
      " {'category': 'Aggravated\\nassault',\n",
      "  'country': 'Autauga',\n",
      "  'from_col': 7,\n",
      "  'from_row': 6,\n",
      "  'value': 52},\n",
      " {'category': 'Property\\ncrime',\n",
      "  'country': 'Autauga',\n",
      "  'from_col': 8,\n",
      "  'from_row': 6,\n",
      "  'value': 429},\n",
      " {'category': 'Burglary',\n",
      "  'country': 'Autauga',\n",
      "  'from_col': 9,\n",
      "  'from_row': 6,\n",
      "  'value': 146},\n",
      " {'category': 'Larceny-\\ntheft',\n",
      "  'country': 'Autauga',\n",
      "  'from_col': 10,\n",
      "  'from_row': 6,\n",
      "  'value': 233},\n",
      " {'category': 'Motor\\nvehicle\\ntheft',\n",
      "  'country': 'Autauga',\n",
      "  'from_col': 11,\n",
      "  'from_row': 6,\n",
      "  'value': 50}]\n"
     ]
    }
   ],
   "source": [
    "variables = {\n",
    "    'value': '$col,$row',\n",
    "    'country': '$B,$row',\n",
    "    'category': '$col,$6',\n",
    "    'from_row': '$row',\n",
    "    'from_col': '$col'\n",
    "}\n",
    "raw_extractions = ee.extract('alabama.xls', '16tbl08al', ['C,7', 'M,33'], variables)\n",
    "pprint.pprint(raw_extractions[:10])  # print first 10"
   ]
  },
  {
   "cell_type": "markdown",
   "metadata": {},
   "source": [
    "## Wrap it up in ETK module and post processing\n",
    "\n",
    "The below example shows how to use this extractor in ETK module. The extractor's variable syntax only supports using a single built-in varaible or a coordinate. All the post processings need to be done after extraction."
   ]
  },
  {
   "cell_type": "code",
   "execution_count": 4,
   "metadata": {},
   "outputs": [
    {
     "name": "stdout",
     "output_type": "stream",
     "text": [
      "{'value': 73, 'country': 'Autauga', 'category': 'Violent crime', 'from_row': 6, 'from_col': 2, 'doc_id': '2ba3d53a985b3386f19f723c686c955cb2a5b5d15d1841138c4078d03e084577'}\n",
      "{'value': 1, 'country': 'Autauga', 'category': 'Murder and nonnegligent manslaughter', 'from_row': 6, 'from_col': 3, 'doc_id': '8fb93fa9b0807c7688b756af0a4469bf6d1645422560de9267f6d88e09ba27df'}\n",
      "{'value': 12, 'country': 'Autauga', 'category': 'Rape (revised definition)1', 'from_row': 6, 'from_col': 4, 'doc_id': 'f31aa809a1a141934a9b05c253aa6aa4ac6b7b955bf235c72b9151dae25d975f'}\n",
      "{'value': '', 'country': 'Autauga', 'category': 'Rape (legacy definition)2', 'from_row': 6, 'from_col': 5, 'doc_id': 'b188c7c15f6617556e5260d6298118243b303e171d0e3f928cd50a0246917dd4'}\n",
      "{'value': 8, 'country': 'Autauga', 'category': 'Robbery', 'from_row': 6, 'from_col': 6, 'doc_id': '8eaa6f55d81760f58e9fee351e744463785aff5a7c13764d34df20cf5a07db34'}\n",
      "{'value': 52, 'country': 'Autauga', 'category': 'Aggravated assault', 'from_row': 6, 'from_col': 7, 'doc_id': '5b89a4340a3559d5c100008406efcb1fefaa22d0826652b53c6a3f14ea1082f2'}\n",
      "{'value': 429, 'country': 'Autauga', 'category': 'Property crime', 'from_row': 6, 'from_col': 8, 'doc_id': '450d3ddf2ed4162467ea4c91d8fbef9b02cdd963e6d688ee234dade4c967d242'}\n",
      "{'value': 146, 'country': 'Autauga', 'category': 'Burglary', 'from_row': 6, 'from_col': 9, 'doc_id': '7c0306369b47670bd88a4fdfe720e42a89a94d2af23763b949b05392233fe00e'}\n",
      "{'value': 233, 'country': 'Autauga', 'category': 'Larceny- theft', 'from_row': 6, 'from_col': 10, 'doc_id': '87e6f62aae774aa51c9302c76b4cdfcb0177314eb3732f302aaa7f1b200212b1'}\n",
      "{'value': 50, 'country': 'Autauga', 'category': 'Motor vehicle theft', 'from_row': 6, 'from_col': 11, 'doc_id': 'ca2166c706bd7db533ee521d2af31927e425798d28a5118fae702eee3d67615d'}\n"
     ]
    }
   ],
   "source": [
    "import os, sys\n",
    "from etk.etk import ETK\n",
    "from etk.etk_module import ETKModule\n",
    "from etk.extractors.excel_extractor import ExcelExtractor\n",
    "from etk.utilities import Utility\n",
    "\n",
    "\n",
    "class ExampleETKModule(ETKModule):\n",
    "    \"\"\"\n",
    "    Abstract class for extraction module\n",
    "    \"\"\"\n",
    "    def __init__(self, etk):\n",
    "        ETKModule.__init__(self, etk)\n",
    "        self.ee = ExcelExtractor()\n",
    "\n",
    "    def document_selector(self, doc):\n",
    "        return 'file_path' in doc.cdr_document\n",
    "\n",
    "    def process_document(self, doc):\n",
    "        \"\"\"\n",
    "        Add your code for processing the document\n",
    "        \"\"\"\n",
    "\n",
    "        variables = {\n",
    "            'value': '$col,$row',\n",
    "            'country': '$B,$row',\n",
    "            'category': '$col,$6',\n",
    "            'from_row': '$row',\n",
    "            'from_col': '$col'\n",
    "        }\n",
    "\n",
    "        raw_extractions = self.ee.extract(doc.cdr_document['file_path'], '16tbl08al', ['C,7', 'M,33'], variables)\n",
    "\n",
    "        extracted_docs = []\n",
    "        for d in raw_extractions:\n",
    "            # post processing\n",
    "            d['category'] = d['category'].replace('\\n', ' ').strip()\n",
    "            d['country'] = d['country'].replace('\\n', ' ').strip()\n",
    "            d['from_row'] = int(d['from_row'])\n",
    "            d['from_col'] = int(d['from_col'])\n",
    "            \n",
    "            # create sub document\n",
    "            d['doc_id'] = Utility.create_doc_id_from_json(d)\n",
    "            extracted_docs.append(etk.create_document(d))\n",
    "\n",
    "        return extracted_docs\n",
    "\n",
    "\n",
    "# if __name__ == \"__main__\":\n",
    "etk = ETK(modules=ExampleETKModule)\n",
    "doc = etk.create_document({'file_path': 'alabama.xls'})\n",
    "docs = etk.process_ems(doc)\n",
    "\n",
    "for d in docs[1:11]:  # print first 10\n",
    "    print(d.value)"
   ]
  },
  {
   "cell_type": "code",
   "execution_count": null,
   "metadata": {},
   "outputs": [],
   "source": []
  }
 ],
 "metadata": {
  "kernelspec": {
   "display_name": "etk2_env",
   "language": "python",
   "name": "etk2_env"
  },
  "language_info": {
   "codemirror_mode": {
    "name": "ipython",
    "version": 3
   },
   "file_extension": ".py",
   "mimetype": "text/x-python",
   "name": "python",
   "nbconvert_exporter": "python",
   "pygments_lexer": "ipython3",
   "version": "3.6.2"
  }
 },
 "nbformat": 4,
 "nbformat_minor": 2
}
